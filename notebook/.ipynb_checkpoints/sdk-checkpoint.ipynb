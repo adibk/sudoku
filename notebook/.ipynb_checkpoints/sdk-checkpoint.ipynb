{
 "cells": [
  {
   "cell_type": "code",
   "execution_count": 1,
   "id": "0a89f379",
   "metadata": {},
   "outputs": [],
   "source": [
    "import sys\n",
    "import os\n",
    "\n",
    "sys.path.append(os.path.join(os.getcwd(), '..', 'src'))\n",
    "\n",
    "from sdk import sdk\n",
    "from sdk.sdk import Sdk\n",
    "from sdk.sdk import Grid\n",
    "from sdk.sdk import SdkHandler\n",
    "\n",
    "from examples.expls import SdkExples_2\n"
   ]
  },
  {
   "cell_type": "markdown",
   "id": "44a98c79",
   "metadata": {},
   "source": [
    "# Grid"
   ]
  },
  {
   "cell_type": "markdown",
   "id": "0a74e13c",
   "metadata": {},
   "source": [
    "### Input = text"
   ]
  },
  {
   "cell_type": "code",
   "execution_count": 2,
   "id": "87bae485",
   "metadata": {},
   "outputs": [],
   "source": [
    "# TypeError: Grid.__init__ expects a string or a list to create an instance of Grid, got int instead.\n",
    "# grid = Grid(4)\n"
   ]
  },
  {
   "cell_type": "code",
   "execution_count": 3,
   "id": "dab1986e",
   "metadata": {},
   "outputs": [
    {
     "name": "stdout",
     "output_type": "stream",
     "text": [
      "\n",
      "                [5, 0, 0, 0,\n",
      "                [0, 7, 0, 0,NOT FORMATED\n",
      "        TABS    [0, 0, 8, 0,\n",
      "                [0, 0, 0, 7,\n",
      "            \n"
     ]
    }
   ],
   "source": [
    "text = SdkExples_2.text['2x2_0'][0]\n",
    "print(text)\n",
    "\n"
   ]
  },
  {
   "cell_type": "code",
   "execution_count": 4,
   "id": "f7ddfe56",
   "metadata": {},
   "outputs": [
    {
     "name": "stdout",
     "output_type": "stream",
     "text": [
      "\u001b[94mText\u001b[0m\n",
      "\n",
      "                [5, 0, 0, 0,\n",
      "                [0, 7, 0, 0,NOT FORMATED\n",
      "        TABS    [0, 0, 8, 0,\n",
      "                [0, 0, 0, 7,\n",
      "            \n",
      "\n",
      "\u001b[94mLines\u001b[0m\n",
      "[5, None, None, None]\n",
      "[None, 7, None, None]\n",
      "[None, None, 8, None]\n",
      "[None, None, None, 7]\n",
      "\n",
      "\u001b[94mSize: \u001b[0m               2\n",
      "\u001b[94mLength: \u001b[0m             4\n",
      "\u001b[94mEmpty_text: \u001b[0m         0\n",
      "\u001b[94mEmpty_lines: \u001b[0m        None\n",
      "\n"
     ]
    }
   ],
   "source": [
    "grid = Grid(text)\n",
    "grid.show_status()"
   ]
  },
  {
   "cell_type": "code",
   "execution_count": 5,
   "id": "c1d20d3f",
   "metadata": {},
   "outputs": [
    {
     "name": "stdout",
     "output_type": "stream",
     "text": [
      "\u001b[94mText\u001b[0m\n",
      "\n",
      "                [5, 0, 0, 0,\n",
      "                [0, 7, 0, 0,NOT FORMATED\n",
      "        TABS    [0, 0, 8, 0,\n",
      "                [0, 0, 0, 7,\n",
      "            \n",
      "\n",
      "\u001b[94mLines\u001b[0m\n",
      "[5, 0, 0, 0]\n",
      "[0, 7, 0, 0]\n",
      "[0, 0, 8, 0]\n",
      "[0, 0, 0, 7]\n",
      "\n",
      "\u001b[94mSize: \u001b[0m               2\n",
      "\u001b[94mLength: \u001b[0m             4\n",
      "\u001b[94mEmpty_text: \u001b[0m         0\n",
      "\u001b[94mEmpty_lines: \u001b[0m        0\n",
      "\n"
     ]
    }
   ],
   "source": [
    "grid = Grid(text, '0', 0)\n",
    "grid.show_status()"
   ]
  },
  {
   "cell_type": "code",
   "execution_count": 6,
   "id": "e73de105",
   "metadata": {},
   "outputs": [],
   "source": [
    "# # expected error with int 0\n",
    "# # Grid.set_empty_lines expects a str, got int instead\n",
    "# grid = Grid(text, 0)\n",
    "# grid.show_status()"
   ]
  },
  {
   "cell_type": "code",
   "execution_count": 7,
   "id": "ea9a8c29",
   "metadata": {},
   "outputs": [],
   "source": [
    "# #expected error '1' [1-9]\n",
    "# #ValueError: `empty_lines` cannot be [1-9]\n",
    "# grid = Grid(text, '0', '1')\n",
    "# grid.show_status()"
   ]
  },
  {
   "cell_type": "code",
   "execution_count": 8,
   "id": "588a56ff",
   "metadata": {},
   "outputs": [],
   "source": [
    "# #expected error '1' [1-9]\n",
    "# #ValueError: `empty_lines` cannot be [1-9]\n",
    "# grid = Grid(text, '0', 3)\n",
    "# grid.show_status()"
   ]
  },
  {
   "cell_type": "code",
   "execution_count": 9,
   "id": "a604a8dc",
   "metadata": {},
   "outputs": [
    {
     "name": "stdout",
     "output_type": "stream",
     "text": [
      "\n",
      "                [5, 0, 0, 0,\n",
      "                [0, 7, 0, 0,NOT FORMATED\n",
      "        TABS    [0, 0, 8, 0,\n",
      "                [0, 0, 0, 7, 0\n",
      "            \n",
      "\n",
      "                [5, 0, 0, 0,\n",
      "              8 [0, 7, 0, 0,NOT FORMATED\n",
      "        TABS    [0, 0, 8, 0,\n",
      "                [0, 0, 0, 7,\n",
      "            \n"
     ]
    }
   ],
   "source": [
    "text_1 = SdkExples_2.text['2x2_0_not_square'][0]\n",
    "print(text_1)\n",
    "text_2 = SdkExples_2.text['2x2_0_not_square'][1]\n",
    "print(text_2)"
   ]
  },
  {
   "cell_type": "code",
   "execution_count": 10,
   "id": "65abd54c",
   "metadata": {},
   "outputs": [],
   "source": [
    "#ValueError: Cannot extract a square from the text input given\n",
    "# grid = Grid(text_1)\n",
    "# grid.show_status()\n",
    "# grid = Grid(text_2)\n",
    "# grid.show_status()\n"
   ]
  },
  {
   "cell_type": "markdown",
   "id": "bcb7cd0b",
   "metadata": {},
   "source": [
    "### Testing input = list"
   ]
  },
  {
   "cell_type": "code",
   "execution_count": 11,
   "id": "69023ea7",
   "metadata": {},
   "outputs": [
    {
     "name": "stdout",
     "output_type": "stream",
     "text": [
      "[[5, None, None, None], [None, 7, None, None], [None, None, 8, None], [None, None, None, 7]]\n"
     ]
    }
   ],
   "source": [
    "lines = SdkExples_2.lines['2x2_None'][0]\n",
    "print(lines)\n"
   ]
  },
  {
   "cell_type": "code",
   "execution_count": 12,
   "id": "c750679a",
   "metadata": {},
   "outputs": [
    {
     "name": "stdout",
     "output_type": "stream",
     "text": [
      "\u001b[94mText\u001b[0m\n",
      "None\n",
      "\n",
      "\u001b[94mLines\u001b[0m\n",
      "[5, None, None, None]\n",
      "[None, 7, None, None]\n",
      "[None, None, 8, None]\n",
      "[None, None, None, 7]\n",
      "\n",
      "\u001b[94mSize: \u001b[0m               2\n",
      "\u001b[94mLength: \u001b[0m             4\n",
      "\u001b[94mEmpty_text: \u001b[0m         0\n",
      "\u001b[94mEmpty_lines: \u001b[0m        None\n",
      "\n"
     ]
    }
   ],
   "source": [
    "grid = Grid(lines)\n",
    "grid.show_status()"
   ]
  },
  {
   "cell_type": "code",
   "execution_count": 13,
   "id": "bfb2fc56",
   "metadata": {},
   "outputs": [
    {
     "name": "stdout",
     "output_type": "stream",
     "text": [
      "\u001b[94mText\u001b[0m\n",
      "None\n",
      "\n",
      "\u001b[94mLines\u001b[0m\n",
      "[5, None, None, None]\n",
      "[None, 7, None, None]\n",
      "[None, None, 8, None]\n",
      "[None, None, None, 7]\n",
      "\n",
      "\u001b[94mSize: \u001b[0m               2\n",
      "\u001b[94mLength: \u001b[0m             4\n",
      "\u001b[94mEmpty_text: \u001b[0m         0\n",
      "\u001b[94mEmpty_lines: \u001b[0m        None\n",
      "\n"
     ]
    }
   ],
   "source": [
    "\n",
    "grid = Grid(lines, '0')\n",
    "grid.show_status()"
   ]
  },
  {
   "cell_type": "code",
   "execution_count": 14,
   "id": "d77f5997",
   "metadata": {},
   "outputs": [],
   "source": [
    "# # TypeError\n",
    "# grid = Grid(lines, 1)\n",
    "# grid.show_status()\n",
    "# # ValueError: `empty_lines` cannot be [1-9]\n",
    "# grid = Grid(lines, '0', 2)\n",
    "# grid.show_status()\n",
    "# grid = Grid(lines, '0', '2')\n",
    "# grid.show_status()\n"
   ]
  },
  {
   "cell_type": "code",
   "execution_count": 15,
   "id": "7ec54590",
   "metadata": {},
   "outputs": [
    {
     "name": "stdout",
     "output_type": "stream",
     "text": [
      "\u001b[94mText\u001b[0m\n",
      "None\n",
      "\n",
      "\u001b[94mLines\u001b[0m\n",
      "[5, 0, 0, 0]\n",
      "[0, 7, 0, 0]\n",
      "[0, 0, 8, 0]\n",
      "[0, 0, 0, 7]\n",
      "\n",
      "\u001b[94mSize: \u001b[0m               2\n",
      "\u001b[94mLength: \u001b[0m             4\n",
      "\u001b[94mEmpty_text: \u001b[0m         0\n",
      "\u001b[94mEmpty_lines: \u001b[0m        0\n",
      "\n"
     ]
    }
   ],
   "source": [
    "grid = Grid(lines, '0', 0)\n",
    "grid.show_status()"
   ]
  },
  {
   "cell_type": "code",
   "execution_count": 16,
   "id": "9d7cf8f0",
   "metadata": {},
   "outputs": [
    {
     "name": "stdout",
     "output_type": "stream",
     "text": [
      "\u001b[94mText\u001b[0m\n",
      "None\n",
      "\n",
      "\u001b[94mLines\u001b[0m\n",
      "[5, 'a', 'a', 'a']\n",
      "['a', 7, 'a', 'a']\n",
      "['a', 'a', 8, 'a']\n",
      "['a', 'a', 'a', 7]\n",
      "\n",
      "\u001b[94mSize: \u001b[0m               2\n",
      "\u001b[94mLength: \u001b[0m             4\n",
      "\u001b[94mEmpty_text: \u001b[0m         a\n",
      "\u001b[94mEmpty_lines: \u001b[0m        a\n",
      "\n"
     ]
    }
   ],
   "source": [
    "grid = Grid(lines, 'a', 'a')\n",
    "grid.show_status()"
   ]
  },
  {
   "cell_type": "code",
   "execution_count": 17,
   "id": "25647691",
   "metadata": {},
   "outputs": [
    {
     "name": "stdout",
     "output_type": "stream",
     "text": [
      "[[5, None, None, None], [None, 7, None, None], [None, None, 8, None], [None, None, None, 7, 0]]\n"
     ]
    }
   ],
   "source": [
    "lines = SdkExples_2.lines['2x2_None_not_square'][0]\n",
    "print(lines)"
   ]
  },
  {
   "cell_type": "code",
   "execution_count": 18,
   "id": "4142a118",
   "metadata": {},
   "outputs": [],
   "source": [
    "# # Grid.set_lines expects a list of lists, length X * X\n",
    "# grid = Grid(lines)"
   ]
  },
  {
   "cell_type": "code",
   "execution_count": 21,
   "id": "89e518da",
   "metadata": {},
   "outputs": [
    {
     "name": "stdout",
     "output_type": "stream",
     "text": [
      "\n",
      "\n",
      "test\n"
     ]
    }
   ],
   "source": [
    "lines = SdkExples_2.text['big'][0]\n",
    "print(lines)"
   ]
  }
 ],
 "metadata": {
  "kernelspec": {
   "display_name": "Python 3 (ipykernel)",
   "language": "python",
   "name": "python3"
  },
  "language_info": {
   "codemirror_mode": {
    "name": "ipython",
    "version": 3
   },
   "file_extension": ".py",
   "mimetype": "text/x-python",
   "name": "python",
   "nbconvert_exporter": "python",
   "pygments_lexer": "ipython3",
   "version": "3.10.6"
  },
  "toc": {
   "base_numbering": 1,
   "nav_menu": {},
   "number_sections": true,
   "sideBar": true,
   "skip_h1_title": false,
   "title_cell": "Table of Contents",
   "title_sidebar": "Contents",
   "toc_cell": false,
   "toc_position": {},
   "toc_section_display": true,
   "toc_window_display": false
  }
 },
 "nbformat": 4,
 "nbformat_minor": 5
}
