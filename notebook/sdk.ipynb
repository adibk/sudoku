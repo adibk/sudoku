{
 "cells": [
  {
   "cell_type": "code",
   "execution_count": 1,
   "id": "0a89f379",
   "metadata": {},
   "outputs": [],
   "source": [
    "import sys\n",
    "import os\n",
    "\n",
    "sys.path.append(os.path.join(os.getcwd(), '..', 'src'))\n",
    "\n",
    "from sdk import sdk\n",
    "from sdk.sdk import Sdk\n",
    "from sdk.sdk import Grid\n",
    "from sdk.sdk import SdkHandler\n",
    "\n",
    "from examples.expls import SdkExples_2\n"
   ]
  },
  {
   "cell_type": "markdown",
   "id": "44a98c79",
   "metadata": {},
   "source": [
    "# Grid"
   ]
  },
  {
   "cell_type": "markdown",
   "id": "f0becb96",
   "metadata": {
    "heading_collapsed": true
   },
   "source": [
    "### Input = text"
   ]
  },
  {
   "cell_type": "code",
   "execution_count": 2,
   "id": "30ac8f2d",
   "metadata": {
    "hidden": true
   },
   "outputs": [],
   "source": [
    "# TypeError: Grid.__init__ expects a string or a list to create an instance of Grid, got int instead.\n",
    "# grid = Grid(4)\n"
   ]
  },
  {
   "cell_type": "code",
   "execution_count": 3,
   "id": "dab1986e",
   "metadata": {
    "hidden": true
   },
   "outputs": [
    {
     "name": "stdout",
     "output_type": "stream",
     "text": [
      "\n",
      "                [5, 0, 0, 0,\n",
      "                [0, 7, 0, 0,NOT FORMATED\n",
      "        TABS    [0, 0, 8, 0,\n",
      "                [0, 0, 0, 7,\n",
      "            \n"
     ]
    }
   ],
   "source": [
    "text = SdkExples_2.text['2x2_0'][0]\n",
    "print(text)\n",
    "\n"
   ]
  },
  {
   "cell_type": "code",
   "execution_count": 4,
   "id": "6d9609c5",
   "metadata": {
    "hidden": true
   },
   "outputs": [
    {
     "name": "stdout",
     "output_type": "stream",
     "text": [
      "\u001b[94mText\u001b[0m\n",
      "\n",
      "                [5, 0, 0, 0,\n",
      "                [0, 7, 0, 0,NOT FORMATED\n",
      "        TABS    [0, 0, 8, 0,\n",
      "                [0, 0, 0, 7,\n",
      "            \n",
      "\n",
      "\u001b[94mLines\u001b[0m\n",
      "[5, None, None, None]\n",
      "[None, 7, None, None]\n",
      "[None, None, 8, None]\n",
      "[None, None, None, 7]\n",
      "\n",
      "\u001b[94mSize: \u001b[0m               2\n",
      "\u001b[94mLength: \u001b[0m             4\n",
      "\u001b[94mEmpty_text: \u001b[0m         0\n",
      "\u001b[94mEmpty_lines: \u001b[0m        None\n",
      "\n"
     ]
    }
   ],
   "source": [
    "grid = Grid(text)\n",
    "grid.show_status()"
   ]
  },
  {
   "cell_type": "code",
   "execution_count": 5,
   "id": "7a9b2b96",
   "metadata": {
    "hidden": true
   },
   "outputs": [
    {
     "name": "stdout",
     "output_type": "stream",
     "text": [
      "\u001b[94mText\u001b[0m\n",
      "\n",
      "                [5, 0, 0, 0,\n",
      "                [0, 7, 0, 0,NOT FORMATED\n",
      "        TABS    [0, 0, 8, 0,\n",
      "                [0, 0, 0, 7,\n",
      "            \n",
      "\n",
      "\u001b[94mLines\u001b[0m\n",
      "[5, 0, 0, 0]\n",
      "[0, 7, 0, 0]\n",
      "[0, 0, 8, 0]\n",
      "[0, 0, 0, 7]\n",
      "\n",
      "\u001b[94mSize: \u001b[0m               2\n",
      "\u001b[94mLength: \u001b[0m             4\n",
      "\u001b[94mEmpty_text: \u001b[0m         0\n",
      "\u001b[94mEmpty_lines: \u001b[0m        0\n",
      "\n"
     ]
    }
   ],
   "source": [
    "grid = Grid(text, '0', 0)\n",
    "grid.show_status()"
   ]
  },
  {
   "cell_type": "code",
   "execution_count": 6,
   "id": "5734ef26",
   "metadata": {
    "hidden": true
   },
   "outputs": [],
   "source": [
    "# # expected error with int 0\n",
    "# # Grid.set_empty_lines expects a str, got int instead\n",
    "# grid = Grid(text, 0)\n",
    "# grid.show_status()"
   ]
  },
  {
   "cell_type": "code",
   "execution_count": 7,
   "id": "ca279c31",
   "metadata": {
    "hidden": true
   },
   "outputs": [],
   "source": [
    "# #expected error '1' [1-9]\n",
    "# #ValueError: `empty_lines` cannot be [1-9]\n",
    "# grid = Grid(text, '0', '1')\n",
    "# grid.show_status()"
   ]
  },
  {
   "cell_type": "code",
   "execution_count": 8,
   "id": "2db82dba",
   "metadata": {
    "hidden": true
   },
   "outputs": [],
   "source": [
    "# #expected error '1' [1-9]\n",
    "# #ValueError: `empty_lines` cannot be [1-9]\n",
    "# grid = Grid(text, '0', 3)\n",
    "# grid.show_status()"
   ]
  },
  {
   "cell_type": "code",
   "execution_count": 9,
   "id": "55d0f47b",
   "metadata": {
    "hidden": true
   },
   "outputs": [
    {
     "name": "stdout",
     "output_type": "stream",
     "text": [
      "\n",
      "                [5, 0, 0, 0,\n",
      "                [0, 7, 0, 0,NOT FORMATED\n",
      "        TABS    [0, 0, 8, 0,\n",
      "                [0, 0, 0, 7, 0\n",
      "            \n",
      "\n",
      "                [5, 0, 0, 0,\n",
      "              8 [0, 7, 0, 0,NOT FORMATED\n",
      "        TABS    [0, 0, 8, 0,\n",
      "                [0, 0, 0, 7,\n",
      "            \n"
     ]
    }
   ],
   "source": [
    "text_1 = SdkExples_2.text['2x2_0_not_square'][0]\n",
    "print(text_1)\n",
    "text_2 = SdkExples_2.text['2x2_0_not_square'][1]\n",
    "print(text_2)"
   ]
  },
  {
   "cell_type": "code",
   "execution_count": 10,
   "id": "69aed3ec",
   "metadata": {
    "hidden": true
   },
   "outputs": [],
   "source": [
    "#ValueError: Cannot extract a square from the text input given\n",
    "# grid = Grid(text_1)\n",
    "# grid.show_status()\n",
    "# grid = Grid(text_2)\n",
    "# grid.show_status()\n"
   ]
  },
  {
   "cell_type": "markdown",
   "id": "3ebd7460",
   "metadata": {
    "heading_collapsed": true
   },
   "source": [
    "### Testing input = list"
   ]
  },
  {
   "cell_type": "code",
   "execution_count": 11,
   "id": "b28b868a",
   "metadata": {
    "hidden": true
   },
   "outputs": [
    {
     "name": "stdout",
     "output_type": "stream",
     "text": [
      "[[5, None, None, None], [None, 7, None, None], [None, None, 8, None], [None, None, None, 7]]\n"
     ]
    }
   ],
   "source": [
    "lines = SdkExples_2.lines['2x2_None'][0]\n",
    "print(lines)\n"
   ]
  },
  {
   "cell_type": "code",
   "execution_count": 12,
   "id": "7171c652",
   "metadata": {
    "hidden": true
   },
   "outputs": [
    {
     "name": "stdout",
     "output_type": "stream",
     "text": [
      "\u001b[94mText\u001b[0m\n",
      "None\n",
      "\n",
      "\u001b[94mLines\u001b[0m\n",
      "[5, None, None, None]\n",
      "[None, 7, None, None]\n",
      "[None, None, 8, None]\n",
      "[None, None, None, 7]\n",
      "\n",
      "\u001b[94mSize: \u001b[0m               2\n",
      "\u001b[94mLength: \u001b[0m             4\n",
      "\u001b[94mEmpty_text: \u001b[0m         0\n",
      "\u001b[94mEmpty_lines: \u001b[0m        None\n",
      "\n"
     ]
    }
   ],
   "source": [
    "grid = Grid(lines)\n",
    "grid.show_status()"
   ]
  },
  {
   "cell_type": "code",
   "execution_count": 13,
   "id": "65b4fd42",
   "metadata": {
    "hidden": true
   },
   "outputs": [
    {
     "name": "stdout",
     "output_type": "stream",
     "text": [
      "\u001b[94mText\u001b[0m\n",
      "None\n",
      "\n",
      "\u001b[94mLines\u001b[0m\n",
      "[5, None, None, None]\n",
      "[None, 7, None, None]\n",
      "[None, None, 8, None]\n",
      "[None, None, None, 7]\n",
      "\n",
      "\u001b[94mSize: \u001b[0m               2\n",
      "\u001b[94mLength: \u001b[0m             4\n",
      "\u001b[94mEmpty_text: \u001b[0m         0\n",
      "\u001b[94mEmpty_lines: \u001b[0m        None\n",
      "\n"
     ]
    }
   ],
   "source": [
    "\n",
    "grid = Grid(lines, '0')\n",
    "grid.show_status()"
   ]
  },
  {
   "cell_type": "code",
   "execution_count": 14,
   "id": "395cd7fc",
   "metadata": {
    "hidden": true
   },
   "outputs": [],
   "source": [
    "# # TypeError\n",
    "# grid = Grid(lines, 1)\n",
    "# grid.show_status()\n",
    "# # ValueError: `empty_lines` cannot be [1-9]\n",
    "# grid = Grid(lines, '0', 2)\n",
    "# grid.show_status()\n",
    "# grid = Grid(lines, '0', '2')\n",
    "# grid.show_status()\n"
   ]
  },
  {
   "cell_type": "code",
   "execution_count": 15,
   "id": "91b9c822",
   "metadata": {
    "hidden": true
   },
   "outputs": [
    {
     "name": "stdout",
     "output_type": "stream",
     "text": [
      "\u001b[94mText\u001b[0m\n",
      "None\n",
      "\n",
      "\u001b[94mLines\u001b[0m\n",
      "[5, 0, 0, 0]\n",
      "[0, 7, 0, 0]\n",
      "[0, 0, 8, 0]\n",
      "[0, 0, 0, 7]\n",
      "\n",
      "\u001b[94mSize: \u001b[0m               2\n",
      "\u001b[94mLength: \u001b[0m             4\n",
      "\u001b[94mEmpty_text: \u001b[0m         0\n",
      "\u001b[94mEmpty_lines: \u001b[0m        0\n",
      "\n"
     ]
    }
   ],
   "source": [
    "grid = Grid(lines, '0', 0)\n",
    "grid.show_status()"
   ]
  },
  {
   "cell_type": "code",
   "execution_count": 16,
   "id": "a9431e2b",
   "metadata": {
    "hidden": true
   },
   "outputs": [
    {
     "name": "stdout",
     "output_type": "stream",
     "text": [
      "\u001b[94mText\u001b[0m\n",
      "None\n",
      "\n",
      "\u001b[94mLines\u001b[0m\n",
      "[5, 'a', 'a', 'a']\n",
      "['a', 7, 'a', 'a']\n",
      "['a', 'a', 8, 'a']\n",
      "['a', 'a', 'a', 7]\n",
      "\n",
      "\u001b[94mSize: \u001b[0m               2\n",
      "\u001b[94mLength: \u001b[0m             4\n",
      "\u001b[94mEmpty_text: \u001b[0m         a\n",
      "\u001b[94mEmpty_lines: \u001b[0m        a\n",
      "\n"
     ]
    }
   ],
   "source": [
    "grid = Grid(lines, 'a', 'a')\n",
    "grid.show_status()"
   ]
  },
  {
   "cell_type": "code",
   "execution_count": 17,
   "id": "d50c9eb0",
   "metadata": {
    "hidden": true
   },
   "outputs": [
    {
     "name": "stdout",
     "output_type": "stream",
     "text": [
      "[[5, None, None, None], [None, 7, None, None], [None, None, 8, None], [None, None, None, 7, 0]]\n"
     ]
    }
   ],
   "source": [
    "lines = SdkExples_2.lines['2x2_None_not_square'][0]\n",
    "print(lines)"
   ]
  },
  {
   "cell_type": "code",
   "execution_count": 18,
   "id": "5526af0d",
   "metadata": {
    "hidden": true
   },
   "outputs": [],
   "source": [
    "# # Grid.set_lines expects a list of lists, length X * X\n",
    "# grid = Grid(lines)"
   ]
  },
  {
   "cell_type": "code",
   "execution_count": 19,
   "id": "ee2afd2b",
   "metadata": {
    "hidden": true
   },
   "outputs": [
    {
     "name": "stdout",
     "output_type": "stream",
     "text": [
      "\n",
      "1  0  0  0  0  0  0  0  0  0  0  0  0  0  0  2\n",
      " 0  3  0  0  4  0  0  0  0  0  0  5  0  0  0  0\n",
      " 0  0  6  0  0  0  7  0  0  8  0  0  0  9  0  0\n",
      " 0  0  0 10  0 11  0  0 12  0  0  0 13  0  0  0\n",
      "14  0  0  0 15  0  0  0  0 16  0  0  0  0  0  1\n",
      " 0  2  0  0  0  3  0  0  4  0  0  0  5  0  0  0\n",
      " 0  0  6  0  7  0  0  8  0  0  9  0  0  0 10  0\n",
      "11  0  0 12  0  0 13  0  0 14  0  0 15  0  0 16\n",
      " 0  0  1  0  0  0  2  0  0  3  0  0  4  0  0  0\n",
      " 5  0  0  6  0  7  0  0  8  0  9  0  0 10  0 11\n",
      " 0 12  0  0 13  0  0 14  0  0 15  0 16  0  0  0\n",
      " 0  0  0  0  0  0  0  0  0  0  0  0  0  0  0  0\n",
      " 0  0  0  0  0  0  0  0  0  0  0  0  0  0  0  0\n",
      " 0  0  0  0  0  0  0  0  0  0  0  0  0  0  0  0\n",
      " 0  0  0  0  0  0  0  0  0  0  0  0  0  0  0  0\n",
      " 0  0  0  0  0  0  0  0  0  0  0  0  0  0  0  0\n",
      "\n"
     ]
    }
   ],
   "source": [
    "lines = SdkExples_2.text['big'][0]\n",
    "print(lines)"
   ]
  },
  {
   "cell_type": "code",
   "execution_count": 20,
   "id": "846d12cb",
   "metadata": {
    "hidden": true
   },
   "outputs": [
    {
     "name": "stdout",
     "output_type": "stream",
     "text": [
      "\u001b[94mText\u001b[0m\n",
      "\n",
      "1  0  0  0  0  0  0  0  0  0  0  0  0  0  0  2\n",
      " 0  3  0  0  4  0  0  0  0  0  0  5  0  0  0  0\n",
      " 0  0  6  0  0  0  7  0  0  8  0  0  0  9  0  0\n",
      " 0  0  0 10  0 11  0  0 12  0  0  0 13  0  0  0\n",
      "14  0  0  0 15  0  0  0  0 16  0  0  0  0  0  1\n",
      " 0  2  0  0  0  3  0  0  4  0  0  0  5  0  0  0\n",
      " 0  0  6  0  7  0  0  8  0  0  9  0  0  0 10  0\n",
      "11  0  0 12  0  0 13  0  0 14  0  0 15  0  0 16\n",
      " 0  0  1  0  0  0  2  0  0  3  0  0  4  0  0  0\n",
      " 5  0  0  6  0  7  0  0  8  0  9  0  0 10  0 11\n",
      " 0 12  0  0 13  0  0 14  0  0 15  0 16  0  0  0\n",
      " 0  0  0  0  0  0  0  0  0  0  0  0  0  0  0  0\n",
      " 0  0  0  0  0  0  0  0  0  0  0  0  0  0  0  0\n",
      " 0  0  0  0  0  0  0  0  0  0  0  0  0  0  0  0\n",
      " 0  0  0  0  0  0  0  0  0  0  0  0  0  0  0  0\n",
      " 0  0  0  0  0  0  0  0  0  0  0  0  0  0  0  0\n",
      "\n",
      "\n",
      "\u001b[94mLines\u001b[0m\n",
      "[1, '.', '.', '.', '.', '.', '.', '.', '.', '.', '.', '.', '.', '.', '.', 2]\n",
      "['.', 3, '.', '.', 4, '.', '.', '.', '.', '.', '.', 5, '.', '.', '.', '.']\n",
      "['.', '.', 6, '.', '.', '.', 7, '.', '.', 8, '.', '.', '.', 9, '.', '.']\n",
      "['.', '.', '.', 10, '.', 11, '.', '.', 12, '.', '.', '.', 13, '.', '.', '.']\n",
      "[14, '.', '.', '.', 15, '.', '.', '.', '.', 16, '.', '.', '.', '.', '.', 1]\n",
      "['.', 2, '.', '.', '.', 3, '.', '.', 4, '.', '.', '.', 5, '.', '.', '.']\n",
      "['.', '.', 6, '.', 7, '.', '.', 8, '.', '.', 9, '.', '.', '.', 10, '.']\n",
      "[11, '.', '.', 12, '.', '.', 13, '.', '.', 14, '.', '.', 15, '.', '.', 16]\n",
      "['.', '.', 1, '.', '.', '.', 2, '.', '.', 3, '.', '.', 4, '.', '.', '.']\n",
      "[5, '.', '.', 6, '.', 7, '.', '.', 8, '.', 9, '.', '.', 10, '.', 11]\n",
      "['.', 12, '.', '.', 13, '.', '.', 14, '.', '.', 15, '.', 16, '.', '.', '.']\n",
      "['.', '.', '.', '.', '.', '.', '.', '.', '.', '.', '.', '.', '.', '.', '.', '.']\n",
      "['.', '.', '.', '.', '.', '.', '.', '.', '.', '.', '.', '.', '.', '.', '.', '.']\n",
      "['.', '.', '.', '.', '.', '.', '.', '.', '.', '.', '.', '.', '.', '.', '.', '.']\n",
      "['.', '.', '.', '.', '.', '.', '.', '.', '.', '.', '.', '.', '.', '.', '.', '.']\n",
      "['.', '.', '.', '.', '.', '.', '.', '.', '.', '.', '.', '.', '.', '.', '.', '.']\n",
      "\n",
      "\u001b[94mSize: \u001b[0m               4\n",
      "\u001b[94mLength: \u001b[0m             16\n",
      "\u001b[94mEmpty_text: \u001b[0m         0\n",
      "\u001b[94mEmpty_lines: \u001b[0m        .\n",
      "\n"
     ]
    }
   ],
   "source": [
    "grid = Grid(lines, empty_lines='.')\n",
    "grid.show_status()"
   ]
  },
  {
   "cell_type": "code",
   "execution_count": 21,
   "id": "96b6594c",
   "metadata": {
    "hidden": true
   },
   "outputs": [
    {
     "name": "stdout",
     "output_type": "stream",
     "text": [
      "\u001b[94mText\u001b[0m\n",
      "[\n",
      "[5, 0, 0, 0, 0, 0, 0, 0, 0],\n",
      "[0, 7, 0, 0, 0, 0, 0, 0, 0],\n",
      "[0, 0, 8, 0, 0, 0, 0, 0, 0],\n",
      "[0, 0, 0, 7, 0, 0, 0, 0, 0],\n",
      "[0, 0, 0, 0, 5, 0, 0, 0, 0],\n",
      "[0, 0, 0, 0, 0, 4, 0, 0, 0],\n",
      "[0, 0, 0, 0, 0, 0, 2, 0, 0],\n",
      "[0, 0, 0, 0, 0, 0, 0, 3, 0],\n",
      "[0, 0, 0, 0, 0, 0, 0, 0, 9]\n",
      "]\n",
      "\n",
      "\u001b[94mLines\u001b[0m\n",
      "[5, '_', '_', '_', '_', '_', '_', '_', '_']\n",
      "['_', 7, '_', '_', '_', '_', '_', '_', '_']\n",
      "['_', '_', 8, '_', '_', '_', '_', '_', '_']\n",
      "['_', '_', '_', 7, '_', '_', '_', '_', '_']\n",
      "['_', '_', '_', '_', 5, '_', '_', '_', '_']\n",
      "['_', '_', '_', '_', '_', 4, '_', '_', '_']\n",
      "['_', '_', '_', '_', '_', '_', 2, '_', '_']\n",
      "['_', '_', '_', '_', '_', '_', '_', 3, '_']\n",
      "['_', '_', '_', '_', '_', '_', '_', '_', 9]\n",
      "\n",
      "\u001b[94mSize: \u001b[0m               3\n",
      "\u001b[94mLength: \u001b[0m             9\n",
      "\u001b[94mEmpty_text: \u001b[0m         0\n",
      "\u001b[94mEmpty_lines: \u001b[0m        _\n",
      "\n"
     ]
    }
   ],
   "source": [
    "grid = Grid()\n",
    "grid.text = SdkExples_2.text['3x3_0'][0]\n",
    "grid.empty_lines = '_'\n",
    "grid.show_status()"
   ]
  },
  {
   "cell_type": "code",
   "execution_count": 23,
   "id": "dabbf97a",
   "metadata": {
    "hidden": true
   },
   "outputs": [
    {
     "name": "stdout",
     "output_type": "stream",
     "text": [
      "\u001b[94mText\u001b[0m\n",
      "None\n",
      "\n",
      "\u001b[94mLines\u001b[0m\n",
      "[5, None, None, None, None, None, None, None, None]\n",
      "[None, 7, None, None, None, None, None, None, None]\n",
      "[None, None, 8, None, None, None, None, None, None]\n",
      "[None, None, None, 7, None, None, None, None, None]\n",
      "[None, None, None, None, 5, None, None, None, None]\n",
      "[None, None, None, None, None, 4, None, None, None]\n",
      "[None, None, None, None, None, None, 2, None, None]\n",
      "[None, None, None, None, None, None, None, 3, None]\n",
      "[None, None, None, None, None, None, None, None, 9]\n",
      "\n",
      "\u001b[94mSize: \u001b[0m               3\n",
      "\u001b[94mLength: \u001b[0m             9\n",
      "\u001b[94mEmpty_text: \u001b[0m         0\n",
      "\u001b[94mEmpty_lines: \u001b[0m        None\n",
      "\n"
     ]
    }
   ],
   "source": [
    "grid = Grid(text)\n",
    "grid.lines = SdkExples_2.lines['3x3_dash'][0]\n",
    "grid.show_status()"
   ]
  },
  {
   "cell_type": "code",
   "execution_count": 24,
   "id": "1abdd6bd",
   "metadata": {
    "hidden": true
   },
   "outputs": [
    {
     "name": "stdout",
     "output_type": "stream",
     "text": [
      "\u001b[94mText\u001b[0m\n",
      "None\n",
      "\n",
      "\u001b[94mLines\u001b[0m\n",
      "[5, 0, 0, 0, 0, 0, 0, 0, 0]\n",
      "[0, 7, 0, 0, 0, 0, 0, 0, 0]\n",
      "[0, 0, 8, 0, 0, 0, 0, 0, 0]\n",
      "[0, 0, 0, 7, 0, 0, 0, 0, 0]\n",
      "[0, 0, 0, 0, 5, 0, 0, 0, 0]\n",
      "[0, 0, 0, 0, 0, 4, 0, 0, 0]\n",
      "[0, 0, 0, 0, 0, 0, 2, 0, 0]\n",
      "[0, 0, 0, 0, 0, 0, 0, 3, 0]\n",
      "[0, 0, 0, 0, 0, 0, 0, 0, 9]\n",
      "\n",
      "\u001b[94mSize: \u001b[0m               3\n",
      "\u001b[94mLength: \u001b[0m             9\n",
      "\u001b[94mEmpty_text: \u001b[0m         0\n",
      "\u001b[94mEmpty_lines: \u001b[0m        0\n",
      "\n"
     ]
    }
   ],
   "source": [
    "grid.empty_lines = 0\n",
    "grid.show_status()"
   ]
  },
  {
   "cell_type": "markdown",
   "id": "f4cb0209",
   "metadata": {},
   "source": [
    "# Title"
   ]
  },
  {
   "cell_type": "code",
   "execution_count": null,
   "id": "ba69f91d",
   "metadata": {},
   "outputs": [],
   "source": []
  }
 ],
 "metadata": {
  "kernelspec": {
   "display_name": "Python 3 (ipykernel)",
   "language": "python",
   "name": "python3"
  },
  "language_info": {
   "codemirror_mode": {
    "name": "ipython",
    "version": 3
   },
   "file_extension": ".py",
   "mimetype": "text/x-python",
   "name": "python",
   "nbconvert_exporter": "python",
   "pygments_lexer": "ipython3",
   "version": "3.10.6"
  },
  "toc": {
   "base_numbering": 1,
   "nav_menu": {},
   "number_sections": true,
   "sideBar": true,
   "skip_h1_title": false,
   "title_cell": "Table of Contents",
   "title_sidebar": "Contents",
   "toc_cell": false,
   "toc_position": {},
   "toc_section_display": true,
   "toc_window_display": false
  }
 },
 "nbformat": 4,
 "nbformat_minor": 5
}
