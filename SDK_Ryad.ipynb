{
 "cells": [
  {
   "cell_type": "code",
   "execution_count": null,
   "id": "f9828c62",
   "metadata": {},
   "outputs": [],
   "source": []
  },
  {
   "cell_type": "code",
   "execution_count": 98,
   "id": "ec7797b9",
   "metadata": {},
   "outputs": [
    {
     "name": "stdout",
     "output_type": "stream",
     "text": [
      "fin de l'année 2020\n",
      "debut de l'année 2021\n",
      "fin de l'année 2021\n",
      "debut de l'année 2022\n",
      "fin de l'année 2022\n",
      "debut de l'année 2023\n",
      "fin de l'année 2023\n",
      "debut de l'année 2024\n"
     ]
    }
   ],
   "source": [
    "\n",
    "def next_year():\n",
    "    \n",
    "    global year\n",
    "    print(\"fin de l'année\", year)\n",
    "    year += 1\n",
    "    print(\"debut de l'année\", year)\n",
    "year = 2020     \n",
    "\n",
    "\n",
    "\n",
    "next_year()  \n",
    "next_year()  \n",
    "next_year()\n",
    "next_year()\n"
   ]
  },
  {
   "cell_type": "code",
   "execution_count": 32,
   "id": "467f87c8",
   "metadata": {},
   "outputs": [
    {
     "name": "stdout",
     "output_type": "stream",
     "text": [
      "[[5, 3, 4, 6, 7, 8, 9, 1, 2], [6, 7, 2, 1, 9, 5, 3, 4, 8], [1, 9, 8, 3, 4, 2, 5, 6, 7], [8, 5, 9, 7, 6, 1, 4, 2, 3], [4, 2, 6, 8, 5, 3, 7, 9, 1], [7, 1, 3, 9, 2, 4, 8, 5, 6], [9, 6, 1, 5, 3, 7, 2, 8, 4], [2, 8, 7, 4, 1, 9, 6, 3, 5], [3, 4, 5, 2, 8, 6, 1, 7, 9]]\n"
     ]
    }
   ],
   "source": [
    "\n",
    "liste = [\n",
    "    [5, 3, 4, 6, 7, 8, 9, 1, 2],\n",
    "    [6, 7, 2, 1, 9, 5, 3, 4, 8],\n",
    "    [1, 9, 8, 3, 4, 2, 5, 6, 7],\n",
    "    [8, 5, 9, 7, 6, 1, 4, 2, 3],\n",
    "    [4, 2, 6, 8, 5, 3, 7, 9, 1],\n",
    "    [7, 1, 3, 9, 2, 4, 8, 5, 6],\n",
    "    [9, 6, 1, 5, 3, 7, 2, 8, 4],\n",
    "    [2, 8, 7, 4, 1, 9, 6, 3, 5],\n",
    "    [3, 4, 5, 2, 8, 6, 1, 7, 9]\n",
    "]\n",
    "\n",
    "print(liste)"
   ]
  },
  {
   "cell_type": "code",
   "execution_count": 56,
   "id": "85eb8802",
   "metadata": {},
   "outputs": [
    {
     "name": "stdout",
     "output_type": "stream",
     "text": [
      "5 3 4 6 7 8 9 1 2 \n",
      "6 7 2 1 9 5 3 4 8 \n",
      "1 9 8 3 4 2 5 6 7 \n",
      "8 5 9 7 6 1 4 2 3 \n",
      "4 2 6 8 5 3 7 9 1 \n",
      "7 1 3 9 2 4 8 5 6 \n",
      "9 6 1 5 3 7 2 8 4 \n",
      "2 8 7 4 1 9 6 3 5 \n",
      "3 4 5 2 8 6 1 7 9 \n"
     ]
    }
   ],
   "source": [
    "#Creer une grille de sudoku\n",
    "def liste_sudoku(liste):\n",
    "    for ligne in liste:\n",
    "        for elemdemaligne in ligne:\n",
    "            print(elemdemaligne, end=\" \")\n",
    "        print()\n",
    "        \n",
    "        \n",
    "\n",
    "      \n",
    "    \n",
    "liste_sudoku(liste)    "
   ]
  },
  {
   "cell_type": "code",
   "execution_count": 88,
   "id": "4afc1f49",
   "metadata": {},
   "outputs": [
    {
     "data": {
      "text/plain": [
       "True"
      ]
     },
     "execution_count": 88,
     "metadata": {},
     "output_type": "execute_result"
    }
   ],
   "source": [
    "liste = [[5, 3, 4, 6, 7, 8, 9, 1, 2]]\n",
    "\n",
    "\n",
    "#tester si une ligne est valide\n",
    "def test_ligne(ligne):\n",
    "    for elem in ligne:\n",
    "        if not len(set(elem)) == 9:\n",
    "            return False\n",
    "        else:\n",
    "            return True\n",
    "        \n",
    "test_ligne(liste)\n",
    "    \n"
   ]
  },
  {
   "cell_type": "code",
   "execution_count": 99,
   "id": "054145b6",
   "metadata": {},
   "outputs": [
    {
     "data": {
      "text/plain": [
       "False"
      ]
     },
     "execution_count": 99,
     "metadata": {},
     "output_type": "execute_result"
    }
   ],
   "source": [
    "liste2 = [\n",
    "[4, 3, 5, 2, 6, 9, 7, 8, 1],\n",
    "[6, 8, 2, 5, 7, 1, 4, 9, 3],\n",
    "[1, 9, 7, 8, 3, 4, 5, 6, 2],\n",
    "[8, 2, 6, 1, 9, 5, 3, 4, 7],\n",
    "[3, 7, 4, 6, 8, 2, 9, 1, 5],\n",
    "[1, 5, 9, 7, 4, 3, 6, 2, 8],\n",
    "[5, 1, 9, 3, 2, 6, 8, 7, 4],\n",
    "[2, 4, 8, 9, 5, 7, 1, 3, 6],\n",
    "[7, 6, 3, 4, 1, 8, 2, 5, 9]\n",
    "]\n",
    "#tester si une colonne est valide\n",
    "#Test des colonnes\n",
    "def colonne_test(colonne):\n",
    "    for i in range(9):\n",
    "        column = []\n",
    "        for j in range(9):\n",
    "            column.append(colonne[j][i])\n",
    "        if not len(set(column)) == 9:\n",
    "            return False\n",
    "        \n",
    "colonne_test(liste2)        \n"
   ]
  },
  {
   "cell_type": "markdown",
   "id": "a4ce6b93",
   "metadata": {
    "heading_collapsed": true
   },
   "source": [
    "# Checker"
   ]
  },
  {
   "cell_type": "code",
   "execution_count": 6,
   "id": "e5e5cb8e",
   "metadata": {
    "hidden": true
   },
   "outputs": [
    {
     "name": "stdout",
     "output_type": "stream",
     "text": [
      "Cette grille de Sudoku est: True\n",
      "Cette grille de Sudoku est: False\n"
     ]
    }
   ],
   "source": [
    "\n",
    "grille_valide = [\n",
    "[1, 2, 3, 4, 5, 6, 7, 8, 9],\n",
    "[4, 5, 6, 7, 8, 9, 1, 2, 3],\n",
    "[7, 8, 9, 1, 2, 3, 4, 5, 6],\n",
    "[9, 1, 2, 3, 4, 5, 6, 7, 8],\n",
    "[3, 4, 5, 6, 7, 8, 9, 1, 2],\n",
    "[6, 7, 8, 9, 1, 2, 3, 4, 5],\n",
    "[8, 9, 1, 2, 3, 4, 5, 6, 7],\n",
    "[2, 3, 4, 5, 6, 7, 8, 9, 1],\n",
    "[5, 6, 7, 8, 9, 1, 2, 3, 4]]\n",
    "\n",
    "grille_non_valide = [\n",
    "[4, 3, 5, 2, 6, 9, 7, 8, 1],\n",
    "[6, 8, 2, 5, 7, 1, 4, 9, 3],\n",
    "[1, 9, 7, 8, 3, 4, 5, 6, 2],\n",
    "[8, 2, 6, 1, 9, 5, 3, 4, 7],\n",
    "[3, 7, 4, 6, 8, 2, 9, 1, 5],\n",
    "[1, 5, 9, 7, 4, 3, 6, 2, 8],\n",
    "[5, 1, 9, 3, 2, 6, 8, 7, 4],\n",
    "[2, 4, 8, 9, 5, 7, 1, 3, 6],\n",
    "[7, 6, 3, 4, 1, 8, 2, 5, 9]\n",
    "]\n",
    "\n",
    "\n",
    "\n",
    "def sudoku_est_valide(grille):\n",
    "    \n",
    "    #Test des lignes\n",
    "    for line in grille:\n",
    "        if not len(set(line)) == 9: #il ne peut pas avoir 2 fois le meme element avec la methode set\n",
    "            return False\n",
    "        \n",
    "    #Test des colonnes\n",
    "    for i in range(9):\n",
    "        column = []\n",
    "        for j in range(9):\n",
    "            column.append(grille[j][i]) #j= ligne i=colonne\n",
    "        if not len(set(column)) == 9: #si on a pas une colonne de longueur 9 (sans doublon) on renvoi false\n",
    "            return False\n",
    "        \n",
    "    #On teste les sous-grilles 3x3\n",
    "    for y0 in [0, 3, 6]:\n",
    "        for x0 in [0, 3, 6]:\n",
    "            subgrid = []\n",
    "            for i in range(0, 3):\n",
    "                for j in range(0, 3):\n",
    "                    if grille[y0+i][x0+j] in subgrid:\n",
    "                        return False\n",
    "                    subgrid.append(grille[y0+i][x0+j])\n",
    "                    \n",
    "    return True\n",
    "\n",
    "print('Cette grille de Sudoku est:',sudoku_est_valide(grille_valide))\n",
    "print('Cette grille de Sudoku est:',sudoku_est_valide(grille_non_valide))\n"
   ]
  },
  {
   "cell_type": "markdown",
   "id": "b21d5a32",
   "metadata": {},
   "source": [
    "# Solver "
   ]
  },
  {
   "cell_type": "code",
   "execution_count": 14,
   "id": "78094c9a",
   "metadata": {},
   "outputs": [
    {
     "name": "stdout",
     "output_type": "stream",
     "text": [
      "Sudoku résolu :\n",
      "5 3 4  | 6 7 8  | 9 1 2\n",
      "6 7 2  | 1 9 5  | 3 4 8\n",
      "1 9 8  | 3 4 2  | 5 6 7\n",
      "- - - - - - - - - - - -\n",
      "8 5 9  | 7 6 1  | 4 2 3\n",
      "4 2 6  | 8 5 3  | 7 9 1\n",
      "7 1 3  | 9 2 4  | 8 5 6\n",
      "- - - - - - - - - - - -\n",
      "9 6 1  | 5 3 7  | 2 8 4\n",
      "2 8 7  | 4 1 9  | 6 3 5\n",
      "3 4 5  | 2 8 6  | 1 7 9\n"
     ]
    }
   ],
   "source": [
    "def solve_sudoku(grid):\n",
    "    # Fonction récursive pour résoudre le Sudoku\n",
    "    find = find_empty(grid)  # Trouver une case vide\n",
    "    if not find:\n",
    "        return True  # Si aucune case vide n'est trouvée, le Sudoku est résolu\n",
    "    else:\n",
    "        row, col = find  # Coordonnées de la case vide\n",
    "    \n",
    "    # Essayer d'assigner un chiffre de 1 à 9\n",
    "    for num in range(1, 10):\n",
    "        if is_valid(grid, num, (row, col)):  # Vérifier si l'assignation est valide\n",
    "            grid[row][col] = num  # Assigner le chiffre à la case vide\n",
    "            \n",
    "            # Résoudre récursivement le reste du Sudoku\n",
    "            if solve_sudoku(grid):\n",
    "                return True  # Si le Sudoku est résolu, terminer\n",
    "                \n",
    "            grid[row][col] = 0  # Backtrack si aucune solution n'a été trouvée\n",
    "            \n",
    "    return False  # Retourner False si aucune solution n'est trouvée\n",
    "\n",
    "def find_empty(grid):\n",
    "    # Trouver la première case vide dans la grille\n",
    "    for i in range(9):\n",
    "        for j in range(9):\n",
    "            if grid[i][j] == 0:\n",
    "                return (i, j)  # Retourner les coordonnées de la case vide\n",
    "    return None  # Retourner None si aucune case vide n'est trouvée\n",
    "\n",
    "def is_valid(grid, num, pos):\n",
    "    # Vérifier si l'assignation du chiffre num à la position pos est valide\n",
    "    # Vérifier la ligne\n",
    "    for i in range(9):\n",
    "        if grid[pos[0]][i] == num and i != pos[1]:\n",
    "            return False\n",
    "    \n",
    "    # Vérifier la colonne\n",
    "    for i in range(9):\n",
    "        if grid[i][pos[1]] == num and i != pos[0]:\n",
    "            return False\n",
    "    \n",
    "    # Vérifier le bloc de 3x3\n",
    "    box_x = pos[1] // 3\n",
    "    box_y = pos[0] // 3\n",
    "    for i in range(box_y * 3, box_y * 3 + 3):\n",
    "        for j in range(box_x * 3, box_x * 3 + 3):\n",
    "            if grid[i][j] == num and (i, j) != pos:\n",
    "                return False\n",
    "    \n",
    "    return True  # Si l'assignation est valide dans toutes les directions, retourner True\n",
    "\n",
    "def print_grid(grid):\n",
    "    # Fonction pour afficher la grille de Sudoku\n",
    "    for i in range(9):\n",
    "        if i % 3 == 0 and i != 0:\n",
    "            print(\"- - - - - - - - - - - -\")\n",
    "        for j in range(9):\n",
    "            if j % 3 == 0 and j != 0:\n",
    "                print(\" | \", end=\"\")\n",
    "            if j == 8:\n",
    "                print(grid[i][j])\n",
    "            else:\n",
    "                print(str(grid[i][j]) + \" \", end=\"\")\n",
    "\n",
    "# Grille de Sudoku à résoudre (0 représente une case vide)\n",
    "grid_to_solve = [\n",
    "    [5, 3, 0, 0, 7, 0, 0, 0, 0],\n",
    "    [6, 0, 0, 1, 9, 5, 0, 0, 0],\n",
    "    [0, 9, 8, 0, 0, 0, 0, 6, 0],\n",
    "    [8, 0, 0, 0, 6, 0, 0, 0, 3],\n",
    "    [4, 0, 0, 8, 0, 3, 0, 0, 1],\n",
    "    [7, 0, 0, 0, 2, 0, 0, 0, 6],\n",
    "    [0, 6, 0, 0, 0, 0, 2, 8, 0],\n",
    "    [0, 0, 0, 4, 1, 9, 0, 0, 5],\n",
    "    [0, 0, 0, 0, 8, 0, 0, 7, 9]\n",
    "]\n",
    "\n",
    "# Résoudre le Sudoku\n",
    "if solve_sudoku(grid_to_solve):\n",
    "    print(\"Sudoku résolu :\")\n",
    "    print_grid(grid_to_solve)\n",
    "else:\n",
    "    print(\"Aucune solution trouvée.\")\n"
   ]
  },
  {
   "cell_type": "markdown",
   "id": "d8a738b3",
   "metadata": {
    "heading_collapsed": true
   },
   "source": [
    "# Test"
   ]
  },
  {
   "cell_type": "code",
   "execution_count": 40,
   "id": "251c6033",
   "metadata": {
    "hidden": true
   },
   "outputs": [
    {
     "name": "stdout",
     "output_type": "stream",
     "text": [
      "5 6 7 8 9 10 11 12 13 14 15 16 17 18 19 "
     ]
    }
   ],
   "source": [
    "# printing a natural\n",
    "# number from 5 to 20\n",
    "for i in range(5, 20):\n",
    "    print(i, end=\" \")"
   ]
  },
  {
   "cell_type": "code",
   "execution_count": 290,
   "id": "70f84977",
   "metadata": {
    "hidden": true
   },
   "outputs": [
    {
     "name": "stdout",
     "output_type": "stream",
     "text": [
      "1 2 3 4 5 6 7 8 9 \n",
      "1 2 3 4 5 6 7 8 9 \n",
      "1 2 3 4 5 6 7 8 9 \n",
      "1 2 3 4 5 6 7 8 9 \n",
      "1 2 3 4 5 6 7 8 9 \n",
      "1 2 3 4 5 6 7 8 9 \n",
      "1 2 3 4 5 6 7 8 9 \n",
      "1 2 3 4 5 6 7 8 9 \n",
      "1 2 3 4 5 6 7 8 9 \n"
     ]
    }
   ],
   "source": [
    "def liste_de_sdk():\n",
    "    for i in range (9):\n",
    "        listesdkk = [[]]\n",
    "        for i in range (1,10):\n",
    "            \n",
    "            print(i, end = \" \")\n",
    "        print() \n",
    "        \n",
    "        \n",
    "        \n",
    "liste_de_sdk()\n"
   ]
  },
  {
   "cell_type": "code",
   "execution_count": 289,
   "id": "993f028a",
   "metadata": {
    "hidden": true
   },
   "outputs": [
    {
     "name": "stdout",
     "output_type": "stream",
     "text": [
      "[5, 4, 0, 7, 6, 2, 2, 7, 6]\n",
      "[5, 4, 0, 7, 6, 2, 2, 7, 6]\n",
      "[5, 4, 0, 7, 6, 2, 2, 7, 6]\n",
      "[5, 4, 0, 7, 6, 2, 2, 7, 6]\n",
      "[5, 4, 0, 7, 6, 2, 2, 7, 6]\n",
      "[5, 4, 0, 7, 6, 2, 2, 7, 6]\n",
      "[5, 4, 0, 7, 6, 2, 2, 7, 6]\n",
      "[5, 4, 0, 7, 6, 2, 2, 7, 6]\n",
      "[5, 4, 0, 7, 6, 2, 2, 7, 6]\n",
      "[5, 4, 0, 7, 6, 2, 2, 7, 6]\n"
     ]
    }
   ],
   "source": [
    "# letter =   'a'\n",
    "# print(letter)\n",
    "\n",
    "# nb = 34\n",
    "# print(nb)\n",
    "\n",
    "# l = [nb, letter]\n",
    "# print(l)\n",
    "\n",
    "# print([34, 'a'])\n",
    "\n",
    "new_l = []\n",
    "\n",
    "#print(new_l)\n",
    "\n",
    "#print([])\n",
    "\n",
    "import random\n",
    "\n",
    "\n",
    "for i in range(9):\n",
    "    new_l.append(random.randint(0, 10))\n",
    "for i in range(9):\n",
    "      print(new_l)\n",
    "        \n",
    "    \n",
    "    \n",
    "    \n",
    "    \n",
    "    \n",
    "\n",
    "\n",
    "print(new_l)\n"
   ]
  },
  {
   "cell_type": "code",
   "execution_count": 481,
   "id": "b29cf1ff",
   "metadata": {
    "hidden": true
   },
   "outputs": [
    {
     "name": "stdout",
     "output_type": "stream",
     "text": [
      "[[0], [3], [6]]\n"
     ]
    }
   ],
   "source": [
    "grandeliste = []\n",
    "#liste0 = []\n",
    "#liste1 = []\n",
    "#liste2 = []\n",
    "#liste3 = []\n",
    "\n",
    "\n",
    "for i in range(3):\n",
    "     grandeliste.append([random.randint(0,9)])\n",
    "            \n",
    "    #for i in range(1):\n",
    "        #grandeliste.append([random.randint(0,10)])\n",
    "    \n",
    "    #liste0.append(random.randint(0, 10))\n",
    "    #liste1.append(random.randint(0, 10))\n",
    "    #liste2.append(random.randint(0, 10))\n",
    "    #liste3.append(random.randint(0, 10))\n",
    "\n",
    "print(grandeliste)    \n",
    "#print(liste0)\n",
    "#print(liste1)\n",
    "#print(liste2)    \n",
    "#print(liste3)    "
   ]
  },
  {
   "cell_type": "code",
   "execution_count": 55,
   "id": "36f7f6b9",
   "metadata": {
    "hidden": true
   },
   "outputs": [
    {
     "data": {
      "text/plain": [
       "[0, 9, 0, 4, 8, 6, 4, 0, 4]"
      ]
     },
     "execution_count": 55,
     "metadata": {},
     "output_type": "execute_result"
    }
   ],
   "source": [
    "#afficher une liste des nombres de 1 à 9\n",
    "\n",
    "\n",
    "import random\n",
    "\n",
    "liste1a9 = []\n",
    "\n",
    "for i in range(9):\n",
    "    liste1a9.append(random.randint(0,9))\n",
    "liste1a9"
   ]
  },
  {
   "cell_type": "code",
   "execution_count": 58,
   "id": "97e7fe81",
   "metadata": {
    "hidden": true
   },
   "outputs": [
    {
     "name": "stdout",
     "output_type": "stream",
     "text": [
      "[0, 900, 0, 400, 800, 600, 400, 0, 400]\n"
     ]
    }
   ],
   "source": [
    "#Rappler la meme liste 100 fois\n",
    "\n",
    "newliste9=[]\n",
    "for i in liste1a9:    \n",
    "    newliste9.append(i*100)\n",
    "    \n",
    "print(newliste9)    "
   ]
  },
  {
   "cell_type": "code",
   "execution_count": 464,
   "id": "534f9cc2",
   "metadata": {
    "hidden": true
   },
   "outputs": [
    {
     "name": "stdout",
     "output_type": "stream",
     "text": [
      "[[6, 8, 1, 6, 4, 3, 1, 4, 7], [3, 8, 3, 7, 2, 0, 5, 6, 8], [8, 0, 8, 5, 6, 6, 7, 4, 1], [3, 1, 2, 1, 6, 7, 7, 4, 8], [8, 9, 9, 2, 9, 3, 6, 4, 0], [3, 3, 3, 8, 0, 0, 6, 5, 0], [8, 6, 6, 9, 9, 8, 7, 8, 9], [3, 0, 7, 8, 7, 1, 6, 3, 2], [3, 5, 1, 2, 1, 7, 2, 5, 2]]\n"
     ]
    }
   ],
   "source": [
    "#generer 9 liste dans une grande liste et afficher chaque element avec un espace et un retour a la ligne toute les 9.\n",
    "\n",
    "listeB=[]\n",
    "\n",
    "for j in range(9):\n",
    "    listeA=[]\n",
    "    listeB.append(listeA)\n",
    "    for i in range(9):\n",
    "        listeA.append(random.randint(0,9))\n",
    "        \n",
    "        \n",
    "print(listeB)"
   ]
  },
  {
   "cell_type": "markdown",
   "id": "983272e1",
   "metadata": {
    "heading_collapsed": true
   },
   "source": [
    "# Afficher grille de sudoku"
   ]
  },
  {
   "cell_type": "code",
   "execution_count": 113,
   "id": "2e38a37c",
   "metadata": {
    "hidden": true
   },
   "outputs": [
    {
     "name": "stdout",
     "output_type": "stream",
     "text": [
      "a\n",
      "b\n",
      "c\n",
      "d\n",
      "e\n",
      "f\n",
      "g\n",
      "h\n",
      "i\n",
      "j\n",
      "k\n",
      "l\n",
      "m\n",
      "n\n",
      "o\n",
      "p\n",
      "q\n"
     ]
    }
   ],
   "source": [
    "#Parcourir l’alphabet à l’aide d’une boucle et sortir de celle-ci à l’aide de break quand la lettre traitée\n",
    "#sera celle correspondant à l’initiale de votre prénom\n",
    "\n",
    "\n",
    "liste_alpha=[]\n",
    "\n",
    "for lettre in range(97, 123):  # Codes ASCII pour les lettres minuscules\n",
    "    #print(chr(lettre), end=' ')\n",
    "    liste_alpha.append(chr(lettre))\n",
    "    \n",
    "#print(liste_alpha, end= ' ')    \n",
    " \n",
    "for i in liste_alpha:\n",
    "    if i == \"r\" :\n",
    "        break\n",
    "    print(i)"
   ]
  },
  {
   "cell_type": "code",
   "execution_count": 202,
   "id": "e3cdb55b",
   "metadata": {
    "hidden": true
   },
   "outputs": [
    {
     "name": "stdout",
     "output_type": "stream",
     "text": [
      "[[2, 7, 6, 5, 9, 2, 5, 1, 8], [9, 6, 0, 9, 2, 8, 3, 5, 1], [9, 0, 4, 5, 2, 6, 5, 3, 0], [2, 2, 7, 8, 9, 3, 1, 3, 3], [0, 4, 4, 1, 5, 9, 4, 9, 8], [5, 5, 5, 2, 2, 4, 3, 2, 8], [5, 0, 1, 5, 9, 9, 9, 5, 1], [5, 9, 7, 2, 4, 0, 0, 9, 0], [6, 2, 8, 0, 6, 2, 1, 4, 3]]\n"
     ]
    }
   ],
   "source": [
    "import random\n",
    "\n",
    "B = []\n",
    "\n",
    "for j in range(9):\n",
    "    A = []\n",
    "    for i in range (9):\n",
    "        A.append(random.randint(0,9))\n",
    "    B.append(A)\n",
    "\n",
    "\n",
    "print(B)"
   ]
  },
  {
   "cell_type": "code",
   "execution_count": 476,
   "id": "db0bef0a",
   "metadata": {
    "hidden": true
   },
   "outputs": [
    {
     "name": "stdout",
     "output_type": "stream",
     "text": [
      "2  7  6  | 5  9  2  | 5  1  8  \n",
      "9  6  0  | 9  2  8  | 3  5  1  \n",
      "9  0  4  | 5  2  6  | 5  3  0  \n",
      "------------------------------\n",
      "2  2  7  | 8  9  3  | 1  3  3  \n",
      "0  4  4  | 1  5  9  | 4  9  8  \n",
      "5  5  5  | 2  2  4  | 3  2  8  \n",
      "------------------------------\n",
      "5  0  1  | 5  9  9  | 9  5  1  \n",
      "5  9  7  | 2  4  0  | 0  9  0  \n",
      "6  2  8  | 0  6  2  | 1  4  3  \n"
     ]
    }
   ],
   "source": [
    "for index, k in enumerate(B):\n",
    "    \n",
    "    if index == 3 or index == 6:\n",
    "        print('-'*30) \n",
    "        \n",
    "    for index2, l in enumerate (k):  \n",
    "            print(l, end=' ')\n",
    "            print(end=' ')\n",
    "            if index2 == 2 or index2==5:\n",
    "                print('|', end=' ')\n",
    "    \n",
    "    \n",
    "    \n",
    "    print()    \n",
    "    \n",
    "         \n",
    "    \n",
    "\n",
    "    \n",
    "   "
   ]
  },
  {
   "cell_type": "markdown",
   "id": "24def666",
   "metadata": {
    "heading_collapsed": true
   },
   "source": [
    "# Creation d'une fonction"
   ]
  },
  {
   "cell_type": "code",
   "execution_count": 490,
   "id": "10f215a1",
   "metadata": {
    "hidden": true
   },
   "outputs": [
    {
     "name": "stdout",
     "output_type": "stream",
     "text": [
      "2  5  0  | 5  6  8  | 6  2  1  \n",
      "6  9  2  | 4  4  7  | 9  7  5  \n",
      "8  7  2  | 9  1  9  | 0  8  2  \n",
      "------------------------------\n",
      "7  0  9  | 1  8  7  | 9  2  3  \n",
      "0  9  8  | 4  8  1  | 3  1  8  \n",
      "7  6  6  | 8  5  6  | 6  0  5  \n",
      "------------------------------\n",
      "9  4  4  | 4  4  5  | 6  2  1  \n",
      "1  2  8  | 8  4  7  | 4  1  1  \n",
      "8  7  6  | 4  6  7  | 2  5  5  \n",
      "[[2, 5, 0, 5, 6, 8, 6, 2, 1], [6, 9, 2, 4, 4, 7, 9, 7, 5], [8, 7, 2, 9, 1, 9, 0, 8, 2], [7, 0, 9, 1, 8, 7, 9, 2, 3], [0, 9, 8, 4, 8, 1, 3, 1, 8], [7, 6, 6, 8, 5, 6, 6, 0, 5], [9, 4, 4, 4, 4, 5, 6, 2, 1], [1, 2, 8, 8, 4, 7, 4, 1, 1], [8, 7, 6, 4, 6, 7, 2, 5, 5]]\n"
     ]
    }
   ],
   "source": [
    "def grille(une_liste_de_liste):\n",
    "    import random\n",
    "\n",
    "B = []\n",
    "\n",
    "for j in range(9):\n",
    "    A = []\n",
    "    for i in range (9):\n",
    "        A.append(random.randint(0,9))\n",
    "    B.append(A)\n",
    "    \n",
    "    \n",
    "    \n",
    "for index, k in enumerate(B):\n",
    "    \n",
    "    if index == 3 or index == 6:\n",
    "        print('-'*30) \n",
    "        \n",
    "    for index2, l in enumerate (k):  \n",
    "            print(l, end=' ')\n",
    "            print(end=' ')\n",
    "            if index2 == 2 or index2==5:\n",
    "                print('|', end=' ')   \n",
    "    \n",
    "    print()    \n",
    "    \n",
    "print(B)\n",
    "\n",
    "\n"
   ]
  },
  {
   "cell_type": "code",
   "execution_count": null,
   "id": "9ea0c524",
   "metadata": {
    "hidden": true
   },
   "outputs": [],
   "source": []
  }
 ],
 "metadata": {
  "kernelspec": {
   "display_name": "Python 3 (ipykernel)",
   "language": "python",
   "name": "python3"
  },
  "language_info": {
   "codemirror_mode": {
    "name": "ipython",
    "version": 3
   },
   "file_extension": ".py",
   "mimetype": "text/x-python",
   "name": "python",
   "nbconvert_exporter": "python",
   "pygments_lexer": "ipython3",
   "version": "3.10.6"
  },
  "toc": {
   "base_numbering": 1,
   "nav_menu": {},
   "number_sections": true,
   "sideBar": true,
   "skip_h1_title": false,
   "title_cell": "Table of Contents",
   "title_sidebar": "Contents",
   "toc_cell": false,
   "toc_position": {},
   "toc_section_display": true,
   "toc_window_display": false
  }
 },
 "nbformat": 4,
 "nbformat_minor": 5
}
